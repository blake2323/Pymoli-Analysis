{
 "cells": [
  {
   "cell_type": "code",
   "execution_count": 1,
   "metadata": {},
   "outputs": [],
   "source": [
    "# Dependencies and Setup\n",
    "import pandas as pd\n",
    "import numpy as np\n",
    "\n",
    "# File to Load (Remember to Change These)\n",
    "file_to_load = \"purchase_data.csv\"\n",
    "\n",
    "# Read Purchasing File and store into Pandas data frame\n",
    "df = pd.read_csv(file_to_load, encoding=\"ISO-8859-1\")"
   ]
  },
  {
   "cell_type": "code",
   "execution_count": 2,
   "metadata": {},
   "outputs": [
    {
     "data": {
      "text/plain": [
       "Purchase ID    780\n",
       "SN             780\n",
       "Age            780\n",
       "Gender         780\n",
       "Item ID        780\n",
       "Item Name      780\n",
       "Price          780\n",
       "dtype: int64"
      ]
     },
     "execution_count": 2,
     "metadata": {},
     "output_type": "execute_result"
    }
   ],
   "source": [
    "#Make sure there are no empty cells\n",
    "df.count()"
   ]
  },
  {
   "cell_type": "code",
   "execution_count": 3,
   "metadata": {},
   "outputs": [
    {
     "name": "stdout",
     "output_type": "stream",
     "text": [
      "There are 780 total purchases\n",
      "There are 576 unique players\n"
     ]
    }
   ],
   "source": [
    "# Count number of players (since no empty cells we can count any column)\n",
    "total_players = df['SN'].count()\n",
    "print(f\"There are {total_players} total purchases\")\n",
    "unique_players = df['SN'].unique()\n",
    "print(f\"There are {len(unique_players)} unique players\")"
   ]
  },
  {
   "cell_type": "code",
   "execution_count": 4,
   "metadata": {},
   "outputs": [
    {
     "name": "stdout",
     "output_type": "stream",
     "text": [
      "There are 179 unique items\n"
     ]
    }
   ],
   "source": [
    "# Find number of unique items\n",
    "numberof_total_purchases = len(df['SN']) \n",
    "\n",
    "unique_items = df['Item Name'].unique()\n",
    "numberof_unique_items = len(unique_items)\n",
    "print(f\"There are {numberof_unique_items} unique items\")"
   ]
  },
  {
   "cell_type": "code",
   "execution_count": 5,
   "metadata": {},
   "outputs": [
    {
     "name": "stdout",
     "output_type": "stream",
     "text": [
      "The average purchase price is $3.05\n",
      "The total revenue is $2379.77\n"
     ]
    }
   ],
   "source": [
    "#Calculate avg purchase price\n",
    "avg_price = df['Price'].mean()\n",
    "print(f\"The average purchase price is ${round(avg_price, 2)}\")\n",
    "#Calculate total revenue\n",
    "total_revenue = df['Price'].sum()\n",
    "print(f\"The total revenue is ${total_revenue}\")"
   ]
  },
  {
   "cell_type": "code",
   "execution_count": 6,
   "metadata": {},
   "outputs": [
    {
     "name": "stdout",
     "output_type": "stream",
     "text": [
      "There are 576 unique players\n",
      "There are 484 (84.03%) male players\n",
      "There are 81 (14.06%) female players\n",
      "There are 11 (1.91%) other players\n"
     ]
    }
   ],
   "source": [
    "#create new data frames grouped by gender \n",
    "male_players = df.loc[df['Gender']==\"Male\"]\n",
    "female_players = df.loc[df['Gender']==\"Female\"]\n",
    "other_players = df.loc[df['Gender']==\"Other / Non-Disclosed\"]\n",
    "\n",
    "unique_males = male_players['SN'].unique()\n",
    "unique_females = female_players['SN'].unique()\n",
    "unique_other = other_players['SN'].unique()\n",
    "\n",
    "#Gender demographic info\n",
    "num_males = len(unique_males)\n",
    "num_females = len(unique_females)\n",
    "num_other = len(unique_other)\n",
    "num_ofunique_players = len(unique_players) \n",
    "\n",
    "percentage_male = round((num_males/num_ofunique_players*100.0), 2)\n",
    "percentage_female = round((num_females/num_ofunique_players*100.0), 2)\n",
    "percentage_other = round((num_other/num_ofunique_players*100.0), 2)\n",
    "\n",
    "print(f\"There are {len(unique_players)} unique players\")\n",
    "print(f\"There are {num_males} ({percentage_male}%) male players\")\n",
    "print(f\"There are {num_females} ({percentage_female}%) female players\")\n",
    "print(f\"There are {num_other} ({percentage_other}%) other players\")"
   ]
  },
  {
   "cell_type": "code",
   "execution_count": 7,
   "metadata": {},
   "outputs": [
    {
     "name": "stdout",
     "output_type": "stream",
     "text": [
      "There were 484 purchases by males\n",
      "The average purchase price for males is $3.02\n",
      "The total purchase value for males is $1967.64\n"
     ]
    }
   ],
   "source": [
    "#Purchasing Analysis for Males\n",
    "print(f\"There were {num_males} purchases by males\")\n",
    "male_avg_price = male_players['Price'].mean()\n",
    "print(f\"The average purchase price for males is ${round(male_avg_price, 2)}\")\n",
    "male_purchase_sum = male_players['Price'].sum()\n",
    "print(f\"The total purchase value for males is ${male_purchase_sum}\")"
   ]
  },
  {
   "cell_type": "code",
   "execution_count": 8,
   "metadata": {},
   "outputs": [
    {
     "name": "stdout",
     "output_type": "stream",
     "text": [
      "There were 81 purchases by females\n",
      "The average purchase price for females is $3.2\n",
      "The total purchase value for females is $361.94\n"
     ]
    }
   ],
   "source": [
    "#Purchasing Analysis for Females\n",
    "print(f\"There were {num_females} purchases by females\")\n",
    "female_avg_price = female_players['Price'].mean()\n",
    "print(f\"The average purchase price for females is ${round(female_avg_price, 2)}\")\n",
    "female_purchase_sum = female_players['Price'].sum()\n",
    "print(f\"The total purchase value for females is ${female_purchase_sum}\")"
   ]
  },
  {
   "cell_type": "code",
   "execution_count": 9,
   "metadata": {},
   "outputs": [
    {
     "name": "stdout",
     "output_type": "stream",
     "text": [
      "There were 11 purchases by others\n",
      "The average purchase price for others is $3.35\n",
      "The total purchase value for others is $50.19\n"
     ]
    }
   ],
   "source": [
    "#Purchasing Analysis for Others\n",
    "print(f\"There were {num_other} purchases by others\")\n",
    "other_avg_price = other_players['Price'].mean()\n",
    "print(f\"The average purchase price for others is ${round(other_avg_price, 2)}\")\n",
    "others_purchase_sum = other_players['Price'].sum()\n",
    "print(f\"The total purchase value for others is ${others_purchase_sum}\")"
   ]
  },
  {
   "cell_type": "code",
   "execution_count": 10,
   "metadata": {},
   "outputs": [
    {
     "data": {
      "text/plain": [
       "0             20-24\n",
       "1             40-44\n",
       "2             20-24\n",
       "3             20-24\n",
       "4             20-24\n",
       "5             20-24\n",
       "6             35-39\n",
       "7             20-24\n",
       "8             20-24\n",
       "9             35-39\n",
       "10            20-24\n",
       "11            20-24\n",
       "12            20-24\n",
       "13            20-24\n",
       "14            35-39\n",
       "15            20-24\n",
       "16            20-24\n",
       "17            20-24\n",
       "18            20-24\n",
       "19            30-34\n",
       "20            20-24\n",
       "21            20-24\n",
       "22            35-39\n",
       "23            40-44\n",
       "24            30-34\n",
       "25            25-29\n",
       "26            10-14\n",
       "27     Less than 10\n",
       "28            20-24\n",
       "29            20-24\n",
       "           ...     \n",
       "750           20-24\n",
       "751           10-14\n",
       "752           15-19\n",
       "753           35-39\n",
       "754           20-24\n",
       "755           10-14\n",
       "756           20-24\n",
       "757           15-19\n",
       "758           20-24\n",
       "759           25-29\n",
       "760           20-24\n",
       "761           45-49\n",
       "762           25-29\n",
       "763           20-24\n",
       "764           15-19\n",
       "765           15-19\n",
       "766           20-24\n",
       "767    Less than 10\n",
       "768           35-39\n",
       "769           15-19\n",
       "770           30-34\n",
       "771           15-19\n",
       "772           25-29\n",
       "773           20-24\n",
       "774           10-14\n",
       "775           20-24\n",
       "776           20-24\n",
       "777           20-24\n",
       "778    Less than 10\n",
       "779           20-24\n",
       "Name: Age, Length: 780, dtype: category\n",
       "Categories (9, object): [Less than 10 < 10-14 < 15-19 < 20-24 ... 30-34 < 35-39 < 40-44 < 45-49]"
      ]
     },
     "execution_count": 10,
     "metadata": {},
     "output_type": "execute_result"
    }
   ],
   "source": [
    "#Create bins based on age\n",
    "bins = [0, 9, 14, 19, 24, 29, 34, 39, 44, 49]\n",
    "#Label names for each bin\n",
    "age_group_labels = [\"Less than 10\", \"10-14\", \"15-19\", \"20-24\", \"25-29\", \"30-34\", \"35-39\", \"40-44\", \"45-49\"]\n",
    "#Cut data into 'age bins'\n",
    "pd.cut(df[\"Age\"], bins, labels=age_group_labels)"
   ]
  },
  {
   "cell_type": "code",
   "execution_count": 11,
   "metadata": {},
   "outputs": [],
   "source": [
    "# Create/add a new column that lists which \"Age Group\" player is in\n",
    "df[\"Age Group\"] = pd.cut(df[\"Age\"], bins, labels=age_group_labels)"
   ]
  },
  {
   "cell_type": "code",
   "execution_count": 12,
   "metadata": {},
   "outputs": [
    {
     "name": "stdout",
     "output_type": "stream",
     "text": [
      "Summary of purchase count by age:\n",
      "The total number of purchases by age<10 is 23\n",
      "The total number of purchases by age 10-14 is 28\n",
      "The total number of purchases by age 15-19 is 136\n",
      "The total number of purchases by age 20-24 is 365\n",
      "The total number of purchases by age 25-29 is 101\n",
      "The total number of purchases by age 30-34 is 73\n",
      "The total number of purchases by age 35-39 is 41\n",
      "The total number of purchases by age 40-44 is 12\n",
      "The total number of purchases by age 45-49 is 1\n",
      "---------------------------------------------------------------------------\n",
      "Summary of average purchase price by age:\n",
      "The average purchase price for age<10 is $3.35\n",
      "The average purchase price for age 10-14 is $2.96\n",
      "The average purchase price for age 15-19 is $3.04\n",
      "The average purchase price for age 20-24 is $3.05\n",
      "The average purchase price for age 25-29 is $2.9\n",
      "The average purchase price for age 30-34 is $2.93\n",
      "The average purchase price for age 35-39 is $3.6\n",
      "The average purchase price for age 40-44 is $3.04\n",
      "The average purchase price for age 45-49 is $1.7\n",
      "---------------------------------------------------------------------------\n",
      "Summary of total purchase value by age:\n",
      " Total purchase value for less than 10 group is $77.13\n",
      " Total purchase value for 10-14 group is $82.78\n",
      " Total purchase value for 15-19 group is $412.89\n",
      " Total purchase value for 20-24 group is $1114.06\n",
      " Total purchase value for 25-29 group is $293.0\n",
      " Total purchase value for 30-34 group is $214.0\n",
      " Total purchase value for 35-39 group is $147.67\n",
      " Total purchase value for 40-44 group is $36.54\n",
      " Total purchase value for 45-49 group is $1.7\n",
      "---------------------------------------------------------------------------\n"
     ]
    }
   ],
   "source": [
    "# Create a GroupBy object based upon Age Group\"\n",
    "age_group = df.groupby(\"Age Group\")\n",
    "\n",
    "# Find how many players fall into each 'Age bin'\n",
    "num_age_purchases = age_group[\"SN\"].count()\n",
    "\n",
    "print(\"Summary of purchase count by age:\")\n",
    "print(f\"The total number of purchases by age<10 is {num_age_purchases['Less than 10']}\")\n",
    "print(f\"The total number of purchases by age 10-14 is {num_age_purchases['10-14']}\")      \n",
    "print(f\"The total number of purchases by age 15-19 is {num_age_purchases['15-19']}\")      \n",
    "print(f\"The total number of purchases by age 20-24 is {num_age_purchases['20-24']}\")      \n",
    "print(f\"The total number of purchases by age 25-29 is {num_age_purchases['25-29']}\")      \n",
    "print(f\"The total number of purchases by age 30-34 is {num_age_purchases['30-34']}\")      \n",
    "print(f\"The total number of purchases by age 35-39 is {num_age_purchases['35-39']}\")      \n",
    "print(f\"The total number of purchases by age 40-44 is {num_age_purchases['40-44']}\")\n",
    "print(f\"The total number of purchases by age 45-49 is {num_age_purchases['45-49']}\")      \n",
    "print(\"---------------------------------------------------------------------------\")\n",
    "\n",
    "# Get the average of each 'Age bin'\n",
    "average_purchase_by_age = age_group[\"Price\"].mean()\n",
    "\n",
    "print(\"Summary of average purchase price by age:\")\n",
    "print(f\"The average purchase price for age<10 is ${average_purchase_by_age['Less than 10'].round(2)}\")\n",
    "print(f\"The average purchase price for age 10-14 is ${average_purchase_by_age['10-14'].round(2)}\")\n",
    "print(f\"The average purchase price for age 15-19 is ${average_purchase_by_age['15-19'].round(2)}\")\n",
    "print(f\"The average purchase price for age 20-24 is ${average_purchase_by_age['20-24'].round(2)}\")      \n",
    "print(f\"The average purchase price for age 25-29 is ${average_purchase_by_age['25-29'].round(2)}\")      \n",
    "print(f\"The average purchase price for age 30-34 is ${average_purchase_by_age['30-34'].round(2)}\")      \n",
    "print(f\"The average purchase price for age 35-39 is ${average_purchase_by_age['35-39'].round(2)}\")      \n",
    "print(f\"The average purchase price for age 40-44 is ${average_purchase_by_age['40-44'].round(2)}\")      \n",
    "print(f\"The average purchase price for age 45-49 is ${average_purchase_by_age['45-49'].round(2)}\")\n",
    "print(\"---------------------------------------------------------------------------\")\n",
    "      \n",
    "# Total purchase value of each 'Age bin'\n",
    "total_purchase_by_age = age_group[\"Price\"].sum()\n",
    "\n",
    "print(\"Summary of total purchase value by age:\")\n",
    "print(f\" Total purchase value for less than 10 group is ${total_purchase_by_age['Less than 10'].round(2)}\")\n",
    "print(f\" Total purchase value for 10-14 group is ${total_purchase_by_age['10-14'].round(2)}\")\n",
    "print(f\" Total purchase value for 15-19 group is ${total_purchase_by_age['15-19'].round(2)}\")\n",
    "print(f\" Total purchase value for 20-24 group is ${total_purchase_by_age['20-24'].round(2)}\")      \n",
    "print(f\" Total purchase value for 25-29 group is ${total_purchase_by_age['25-29'].round(2)}\")\n",
    "print(f\" Total purchase value for 30-34 group is ${total_purchase_by_age['30-34'].round(2)}\")      \n",
    "print(f\" Total purchase value for 35-39 group is ${total_purchase_by_age['35-39'].round(2)}\")      \n",
    "print(f\" Total purchase value for 40-44 group is ${total_purchase_by_age['40-44'].round(2)}\")      \n",
    "print(f\" Total purchase value for 45-49 group is ${total_purchase_by_age['45-49'].round(2)}\")\n",
    "print(\"---------------------------------------------------------------------------\")"
   ]
  },
  {
   "cell_type": "code",
   "execution_count": 13,
   "metadata": {},
   "outputs": [],
   "source": [
    "# Create a GroupBy object based upon SN\n",
    "SN_group = df.groupby(\"SN\")\n",
    "\n",
    "#Find total purchase value for each player\n",
    "player_purchase_total = SN_group[\"Price\"].sum()\n",
    "pcount = SN_group['SN'].count()\n",
    "average_purchase = SN_group[\"Price\"].mean()"
   ]
  },
  {
   "cell_type": "code",
   "execution_count": 14,
   "metadata": {},
   "outputs": [
    {
     "name": "stdout",
     "output_type": "stream",
     "text": [
      "Top 5 Spenders:\n"
     ]
    },
    {
     "data": {
      "text/html": [
       "<div>\n",
       "<style scoped>\n",
       "    .dataframe tbody tr th:only-of-type {\n",
       "        vertical-align: middle;\n",
       "    }\n",
       "\n",
       "    .dataframe tbody tr th {\n",
       "        vertical-align: top;\n",
       "    }\n",
       "\n",
       "    .dataframe thead th {\n",
       "        text-align: right;\n",
       "    }\n",
       "</style>\n",
       "<table border=\"1\" class=\"dataframe\">\n",
       "  <thead>\n",
       "    <tr style=\"text-align: right;\">\n",
       "      <th></th>\n",
       "      <th>Total Purchase Value</th>\n",
       "      <th>Count</th>\n",
       "      <th>Avg Purchase Price ($)</th>\n",
       "    </tr>\n",
       "    <tr>\n",
       "      <th>SN</th>\n",
       "      <th></th>\n",
       "      <th></th>\n",
       "      <th></th>\n",
       "    </tr>\n",
       "  </thead>\n",
       "  <tbody>\n",
       "    <tr>\n",
       "      <th>Lisosia93</th>\n",
       "      <td>18.96</td>\n",
       "      <td>5</td>\n",
       "      <td>3.79</td>\n",
       "    </tr>\n",
       "    <tr>\n",
       "      <th>Idastidru52</th>\n",
       "      <td>15.45</td>\n",
       "      <td>4</td>\n",
       "      <td>3.86</td>\n",
       "    </tr>\n",
       "    <tr>\n",
       "      <th>Chamjask73</th>\n",
       "      <td>13.83</td>\n",
       "      <td>3</td>\n",
       "      <td>4.61</td>\n",
       "    </tr>\n",
       "    <tr>\n",
       "      <th>Iral74</th>\n",
       "      <td>13.62</td>\n",
       "      <td>4</td>\n",
       "      <td>3.40</td>\n",
       "    </tr>\n",
       "    <tr>\n",
       "      <th>Iskadarya95</th>\n",
       "      <td>13.10</td>\n",
       "      <td>3</td>\n",
       "      <td>4.37</td>\n",
       "    </tr>\n",
       "  </tbody>\n",
       "</table>\n",
       "</div>"
      ],
      "text/plain": [
       "             Total Purchase Value  Count  Avg Purchase Price ($)\n",
       "SN                                                              \n",
       "Lisosia93                   18.96      5                    3.79\n",
       "Idastidru52                 15.45      4                    3.86\n",
       "Chamjask73                  13.83      3                    4.61\n",
       "Iral74                      13.62      4                    3.40\n",
       "Iskadarya95                 13.10      3                    4.37"
      ]
     },
     "execution_count": 14,
     "metadata": {},
     "output_type": "execute_result"
    }
   ],
   "source": [
    "#Create dataframe of grouped player names\n",
    "spending_df = pd.DataFrame({\"Total Purchase Value\": player_purchase_total, \"Count\": pcount, \n",
    "                            \"Avg Purchase Price ($)\": average_purchase.round(2)})\n",
    "\n",
    "top_spenders = spending_df.sort_values(\"Total Purchase Value\", ascending=False)\n",
    "\n",
    "#Print info on top 5 spenders\n",
    "print(\"Top 5 Spenders:\")\n",
    "top_spenders.head()"
   ]
  },
  {
   "cell_type": "code",
   "execution_count": 15,
   "metadata": {},
   "outputs": [],
   "source": [
    "#Create a GroupBy object by item name\n",
    "item_group = df.groupby(\"Item Name\")\n",
    "\n",
    "item_id = item_group[\"Item ID\"].unique()\n",
    "\n",
    "#purchase count\n",
    "jcount = item_group[\"SN\"].count()\n",
    "#item price\n",
    "item_price = item_group[\"Price\"].unique()\n",
    "#Find total purchase value for each player\n",
    "each_purchase_total = item_group[\"Price\"].sum()"
   ]
  },
  {
   "cell_type": "code",
   "execution_count": 16,
   "metadata": {},
   "outputs": [
    {
     "name": "stdout",
     "output_type": "stream",
     "text": [
      "Most Popular Items:\n"
     ]
    },
    {
     "data": {
      "text/html": [
       "<div>\n",
       "<style scoped>\n",
       "    .dataframe tbody tr th:only-of-type {\n",
       "        vertical-align: middle;\n",
       "    }\n",
       "\n",
       "    .dataframe tbody tr th {\n",
       "        vertical-align: top;\n",
       "    }\n",
       "\n",
       "    .dataframe thead th {\n",
       "        text-align: right;\n",
       "    }\n",
       "</style>\n",
       "<table border=\"1\" class=\"dataframe\">\n",
       "  <thead>\n",
       "    <tr style=\"text-align: right;\">\n",
       "      <th></th>\n",
       "      <th>Item ID</th>\n",
       "      <th>Purchase Count</th>\n",
       "      <th>Item Price</th>\n",
       "      <th>Total Purchase ($)</th>\n",
       "    </tr>\n",
       "    <tr>\n",
       "      <th>Item Name</th>\n",
       "      <th></th>\n",
       "      <th></th>\n",
       "      <th></th>\n",
       "      <th></th>\n",
       "    </tr>\n",
       "  </thead>\n",
       "  <tbody>\n",
       "    <tr>\n",
       "      <th>Final Critic</th>\n",
       "      <td>[92, 101]</td>\n",
       "      <td>13</td>\n",
       "      <td>[4.88, 4.19]</td>\n",
       "      <td>59.99</td>\n",
       "    </tr>\n",
       "    <tr>\n",
       "      <th>Oathbreaker, Last Hope of the Breaking Storm</th>\n",
       "      <td>[178]</td>\n",
       "      <td>12</td>\n",
       "      <td>[4.23]</td>\n",
       "      <td>50.76</td>\n",
       "    </tr>\n",
       "    <tr>\n",
       "      <th>Persuasion</th>\n",
       "      <td>[141, 132]</td>\n",
       "      <td>9</td>\n",
       "      <td>[3.19, 3.33]</td>\n",
       "      <td>28.99</td>\n",
       "    </tr>\n",
       "    <tr>\n",
       "      <th>Nirvana</th>\n",
       "      <td>[82]</td>\n",
       "      <td>9</td>\n",
       "      <td>[4.9]</td>\n",
       "      <td>44.10</td>\n",
       "    </tr>\n",
       "    <tr>\n",
       "      <th>Extraction, Quickblade Of Trembling Hands</th>\n",
       "      <td>[108]</td>\n",
       "      <td>9</td>\n",
       "      <td>[3.53]</td>\n",
       "      <td>31.77</td>\n",
       "    </tr>\n",
       "  </tbody>\n",
       "</table>\n",
       "</div>"
      ],
      "text/plain": [
       "                                                 Item ID  Purchase Count  \\\n",
       "Item Name                                                                  \n",
       "Final Critic                                   [92, 101]              13   \n",
       "Oathbreaker, Last Hope of the Breaking Storm       [178]              12   \n",
       "Persuasion                                    [141, 132]               9   \n",
       "Nirvana                                             [82]               9   \n",
       "Extraction, Quickblade Of Trembling Hands          [108]               9   \n",
       "\n",
       "                                                Item Price  Total Purchase ($)  \n",
       "Item Name                                                                       \n",
       "Final Critic                                  [4.88, 4.19]               59.99  \n",
       "Oathbreaker, Last Hope of the Breaking Storm        [4.23]               50.76  \n",
       "Persuasion                                    [3.19, 3.33]               28.99  \n",
       "Nirvana                                              [4.9]               44.10  \n",
       "Extraction, Quickblade Of Trembling Hands           [3.53]               31.77  "
      ]
     },
     "execution_count": 16,
     "metadata": {},
     "output_type": "execute_result"
    }
   ],
   "source": [
    "#Create dataframe with dictionaries\n",
    "\n",
    "popularity_df = pd.DataFrame({\"Item ID\": item_id, \"Purchase Count\": jcount,\n",
    "                              \"Item Price\": item_price, \"Total Purchase ($)\": each_purchase_total})\n",
    "#Sort by total purchase count\n",
    "top_items = popularity_df.sort_values(\"Purchase Count\", ascending=False)\n",
    "\n",
    "print(\"Most Popular Items:\")\n",
    "top_items.head()\n"
   ]
  },
  {
   "cell_type": "code",
   "execution_count": 17,
   "metadata": {},
   "outputs": [
    {
     "name": "stdout",
     "output_type": "stream",
     "text": [
      "Most Profitable Items:\n"
     ]
    },
    {
     "data": {
      "text/html": [
       "<div>\n",
       "<style scoped>\n",
       "    .dataframe tbody tr th:only-of-type {\n",
       "        vertical-align: middle;\n",
       "    }\n",
       "\n",
       "    .dataframe tbody tr th {\n",
       "        vertical-align: top;\n",
       "    }\n",
       "\n",
       "    .dataframe thead th {\n",
       "        text-align: right;\n",
       "    }\n",
       "</style>\n",
       "<table border=\"1\" class=\"dataframe\">\n",
       "  <thead>\n",
       "    <tr style=\"text-align: right;\">\n",
       "      <th></th>\n",
       "      <th>Item ID</th>\n",
       "      <th>Purchase Count</th>\n",
       "      <th>Item Price</th>\n",
       "      <th>Total Purchase ($)</th>\n",
       "    </tr>\n",
       "    <tr>\n",
       "      <th>Item Name</th>\n",
       "      <th></th>\n",
       "      <th></th>\n",
       "      <th></th>\n",
       "      <th></th>\n",
       "    </tr>\n",
       "  </thead>\n",
       "  <tbody>\n",
       "    <tr>\n",
       "      <th>Final Critic</th>\n",
       "      <td>[92, 101]</td>\n",
       "      <td>13</td>\n",
       "      <td>[4.88, 4.19]</td>\n",
       "      <td>59.99</td>\n",
       "    </tr>\n",
       "    <tr>\n",
       "      <th>Oathbreaker, Last Hope of the Breaking Storm</th>\n",
       "      <td>[178]</td>\n",
       "      <td>12</td>\n",
       "      <td>[4.23]</td>\n",
       "      <td>50.76</td>\n",
       "    </tr>\n",
       "    <tr>\n",
       "      <th>Nirvana</th>\n",
       "      <td>[82]</td>\n",
       "      <td>9</td>\n",
       "      <td>[4.9]</td>\n",
       "      <td>44.10</td>\n",
       "    </tr>\n",
       "    <tr>\n",
       "      <th>Fiery Glass Crusader</th>\n",
       "      <td>[145]</td>\n",
       "      <td>9</td>\n",
       "      <td>[4.58]</td>\n",
       "      <td>41.22</td>\n",
       "    </tr>\n",
       "    <tr>\n",
       "      <th>Singed Scalpel</th>\n",
       "      <td>[103]</td>\n",
       "      <td>8</td>\n",
       "      <td>[4.35]</td>\n",
       "      <td>34.80</td>\n",
       "    </tr>\n",
       "  </tbody>\n",
       "</table>\n",
       "</div>"
      ],
      "text/plain": [
       "                                                Item ID  Purchase Count  \\\n",
       "Item Name                                                                 \n",
       "Final Critic                                  [92, 101]              13   \n",
       "Oathbreaker, Last Hope of the Breaking Storm      [178]              12   \n",
       "Nirvana                                            [82]               9   \n",
       "Fiery Glass Crusader                              [145]               9   \n",
       "Singed Scalpel                                    [103]               8   \n",
       "\n",
       "                                                Item Price  Total Purchase ($)  \n",
       "Item Name                                                                       \n",
       "Final Critic                                  [4.88, 4.19]               59.99  \n",
       "Oathbreaker, Last Hope of the Breaking Storm        [4.23]               50.76  \n",
       "Nirvana                                              [4.9]               44.10  \n",
       "Fiery Glass Crusader                                [4.58]               41.22  \n",
       "Singed Scalpel                                      [4.35]               34.80  "
      ]
     },
     "execution_count": 17,
     "metadata": {},
     "output_type": "execute_result"
    }
   ],
   "source": [
    "#Sort by total purchase value\n",
    "profitable_items = popularity_df.sort_values(\"Total Purchase ($)\", ascending=False)\n",
    "\n",
    "print(\"Most Profitable Items:\")\n",
    "profitable_items.head()"
   ]
  },
  {
   "cell_type": "code",
   "execution_count": 18,
   "metadata": {},
   "outputs": [
    {
     "name": "stdout",
     "output_type": "stream",
     "text": [
      "Conclusions:\n",
      "The majority of players are male (84.03%)\n",
      "'Final Critic' was both the most popular and profitable item\n",
      "Most of the players in the data set are 20-24 years old\n"
     ]
    }
   ],
   "source": [
    "#Conclusions/Trends\n",
    "print(\"Conclusions:\")\n",
    "#Conclusion 1\n",
    "print(\"The majority of players are male (84.03%)\")\n",
    "#Conclusion 2\n",
    "print(\"'Final Critic' was both the most popular and profitable item\")\n",
    "#Conclusion 3\n",
    "print(\"Most of the players in the data set are 20-24 years old\")"
   ]
  }
 ],
 "metadata": {
  "kernelspec": {
   "display_name": "Python 3",
   "language": "python",
   "name": "python3"
  },
  "language_info": {
   "codemirror_mode": {
    "name": "ipython",
    "version": 3
   },
   "file_extension": ".py",
   "mimetype": "text/x-python",
   "name": "python",
   "nbconvert_exporter": "python",
   "pygments_lexer": "ipython3",
   "version": "3.7.3"
  }
 },
 "nbformat": 4,
 "nbformat_minor": 2
}
